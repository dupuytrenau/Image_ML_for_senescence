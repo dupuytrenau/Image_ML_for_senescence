{
 "cells": [
  {
   "cell_type": "code",
   "execution_count": null,
   "id": "63b9b0fd",
   "metadata": {},
   "outputs": [],
   "source": [
    "import numpy as np\n",
    "import pandas as pd\n",
    "import matplotlib.pyplot as plt\n",
    "import seaborn as sb\n",
    "import plotly.express as px\n",
    "import plotly.graph_objs as go"
   ]
  },
  {
   "cell_type": "markdown",
   "id": "0a98d818",
   "metadata": {},
   "source": [
    "## load in data for interesting compounds"
   ]
  },
  {
   "cell_type": "code",
   "execution_count": null,
   "id": "86389b71",
   "metadata": {},
   "outputs": [],
   "source": [
    "E57 = pd.read_csv('./E57_drug_discovery/E57_bootstrap_higher_compounds.csv')\n",
    "E31 = pd.read_csv('./E31_drug_discovery/E31_bootstrap_higher_compounds.csv')\n",
    "E57_LOPAC = pd.read_csv('./E57_drug_discovery/E57_bootstrap_LOPAC_compounds.csv')\n",
    "E31_LOPAC = pd.read_csv('./E31_drug_discovery/E31_bootstrap_LOPAC_compounds.csv')\n",
    "\n",
    "E57['cellline'] = 'E57'\n",
    "E57_LOPAC['cellline'] = 'E57'\n",
    "E31['cellline'] = 'E31'\n",
    "E31_LOPAC['cellline'] = 'E31'\n",
    "\n",
    "Data = pd.concat([E57, E57_LOPAC, E31, E31_LOPAC])\n",
    "Data = Data.drop(columns = 'Unnamed: 0')"
   ]
  },
  {
   "cell_type": "code",
   "execution_count": null,
   "id": "51285c3c",
   "metadata": {},
   "outputs": [],
   "source": [
    "E57_fraction = pd.read_csv('./E57_drug_discovery/E57_bootstrap_higher_compounds_fraction.csv')\n",
    "E31_fraction = pd.read_csv('./E31_drug_discovery/E31_bootstrap_higher_compounds_fraction.csv')\n",
    "E57_LOPAC_fraction = pd.read_csv('./E57_drug_discovery/E57_bootstrap_LOPAC_compounds_fraction.csv')\n",
    "E31_LOPAC_fraction = pd.read_csv('./E31_drug_discovery/E31_bootstrap_LOPAC_compounds_fraction.csv')\n",
    "\n",
    "E57_fraction['cellline'] = 'E57'\n",
    "E57_LOPAC_fraction['cellline'] = 'E57'\n",
    "E31_fraction['cellline'] = 'E31'\n",
    "E31_LOPAC_fraction['cellline'] = 'E31'"
   ]
  },
  {
   "cell_type": "markdown",
   "id": "3616683a",
   "metadata": {},
   "source": [
    "## Find compounds in all 4 lists"
   ]
  },
  {
   "cell_type": "code",
   "execution_count": null,
   "id": "518ab580",
   "metadata": {},
   "outputs": [],
   "source": [
    "E57[\"compound\"] = E57[\"compound\"].str.split(\"_\", expand = True)[1]\n",
    "E31[\"compound\"] = E31[\"compound\"].str.split(\"_\", expand = True)[1]\n",
    "E57_fraction[\"compound\"] = E57_fraction[\"compound\"].str.split(\"_\", expand = True)[1]\n",
    "E31_fraction[\"compound\"] = E31_fraction[\"compound\"].str.split(\"_\", expand = True)[1]"
   ]
  },
  {
   "cell_type": "code",
   "execution_count": null,
   "id": "33e4ceb7",
   "metadata": {},
   "outputs": [],
   "source": [
    "E31_targetmol_interesting = set(E31[\"compound\"])\n",
    "E57_targetmol_interesting = set(E57[\"compound\"])\n",
    "E31_LOPAC_interesting = set(E31_LOPAC[\"compound\"])\n",
    "E57_LOPAC_interesting = set(E57_LOPAC[\"compound\"])\n",
    "E31_targetmol_interesting_fraction = set(E31_fraction[\"compound\"])\n",
    "E57_targetmol_interesting_fraction = set(E57_fraction[\"compound\"])\n",
    "E31_LOPAC_interesting_fraction = set(E31_LOPAC_fraction[\"compound\"])\n",
    "E57_LOPAC_interesting_fraction = set(E57_LOPAC_fraction[\"compound\"])"
   ]
  },
  {
   "cell_type": "code",
   "execution_count": null,
   "id": "718c890b",
   "metadata": {},
   "outputs": [],
   "source": [
    "targetmol_interesting = set.intersection(*map(set,[E31_targetmol_interesting, E57_targetmol_interesting, E31_targetmol_interesting_fraction, E57_targetmol_interesting_fraction]))\n",
    "LOPAC_interesting = set.intersection(*map(set,[E31_LOPAC_interesting,E57_LOPAC_interesting, E31_LOPAC_interesting_fraction, E57_LOPAC_interesting_fraction]))"
   ]
  },
  {
   "cell_type": "code",
   "execution_count": null,
   "id": "95e8f697",
   "metadata": {},
   "outputs": [],
   "source": [
    "interesting_compound_list = list(targetmol_interesting) + list(LOPAC_interesting)\n",
    "\n",
    "\n",
    "InterestingCompounds = Data[Data['compound'].isin(interesting_compound_list)]"
   ]
  },
  {
   "cell_type": "code",
   "execution_count": null,
   "id": "8e50ea7e",
   "metadata": {},
   "outputs": [],
   "source": [
    "interesting_compound_list"
   ]
  },
  {
   "cell_type": "code",
   "execution_count": null,
   "id": "04d03c14",
   "metadata": {
    "scrolled": false
   },
   "outputs": [],
   "source": [
    "fig = px.line(InterestingCompounds, x='concentration', y='sen_score', color='compound', symbol='cellline', log_x=True, text='higher', hover_data = ['cellline'])\n",
    "fig.update_traces(textposition='top center')\n",
    "\n",
    "\n",
    "fig.show()"
   ]
  },
  {
   "cell_type": "code",
   "execution_count": null,
   "id": "61f80c9b",
   "metadata": {
    "scrolled": false
   },
   "outputs": [],
   "source": [
    "#plots per compound with at least one concentration with a senescence score greater than 2 stds above the mean\n",
    "#points greater than 2 stds above the mean are shown in red \n",
    "\n",
    "plt.figure(figsize=(35,200))\n",
    "plt.subplots_adjust(hspace=0.5)\n",
    "\n",
    "for n, compound in enumerate(InterestingCompounds.set_index(['compound','concentration','cellline']).groupby(level=0)):\n",
    "    #print(compound[1])\n",
    "    #print(compound[1].reset_index().loc[compound[1].reset_index()['higher']==True])\n",
    "    #print(compound[1].reset_index().loc[compound[1].reset_index()['cellline']=='E31']['concentration'])\n",
    "    ax = plt.subplot(40, 4, n + 1)\n",
    "    ax.plot(compound[1].reset_index().loc[compound[1].reset_index()['cellline']=='E31']['concentration'], compound[1].reset_index().loc[compound[1].reset_index()['cellline']=='E31']['sen_score'], 'g', marker='o', zorder=1, label='E31')\n",
    "    ax.plot(compound[1].reset_index().loc[compound[1].reset_index()['cellline']=='E57']['concentration'], compound[1].reset_index().loc[compound[1].reset_index()['cellline']=='E57']['sen_score'], marker='o', zorder=1, label='E57')\n",
    "    ax.scatter(data=compound[1].reset_index().loc[compound[1].reset_index()['higher']==True], x='concentration', y='sen_score', color='r', zorder=2, label='above 4std')\n",
    "    ax.set_title(compound[0], fontsize=25)\n",
    "    ax.set_xlabel(\"concentration\", fontsize=20)\n",
    "    ax.set_ylabel(\"sen_score\", fontsize=20)\n",
    "    ax.set_ylim((1.6,3.7))\n",
    "    ax.tick_params(axis='both', which='major', labelsize=20)\n",
    "    \n",
    "ax.legend(loc='upper center', bbox_to_anchor=(0, -0.5), fancybox=True, shadow=True, ncol=5, fontsize=20)"
   ]
  },
  {
   "cell_type": "code",
   "execution_count": null,
   "id": "9f288013",
   "metadata": {},
   "outputs": [],
   "source": []
  },
  {
   "cell_type": "code",
   "execution_count": null,
   "id": "ede14fb8",
   "metadata": {},
   "outputs": [],
   "source": []
  }
 ],
 "metadata": {
  "kernelspec": {
   "display_name": "Python 3 (ipykernel)",
   "language": "python",
   "name": "python3"
  },
  "language_info": {
   "codemirror_mode": {
    "name": "ipython",
    "version": 3
   },
   "file_extension": ".py",
   "mimetype": "text/x-python",
   "name": "python",
   "nbconvert_exporter": "python",
   "pygments_lexer": "ipython3",
   "version": "3.8.13"
  }
 },
 "nbformat": 4,
 "nbformat_minor": 5
}
