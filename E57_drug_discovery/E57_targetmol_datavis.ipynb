{
 "cells": [
  {
   "cell_type": "code",
   "execution_count": null,
   "id": "dfda84ea",
   "metadata": {},
   "outputs": [],
   "source": [
    "import numpy as np\n",
    "import pandas as pd\n",
    "import matplotlib.pyplot as plt\n",
    "import seaborn as sb\n",
    "import plotly.express as px"
   ]
  },
  {
   "cell_type": "code",
   "execution_count": null,
   "id": "cee766ba",
   "metadata": {},
   "outputs": [],
   "source": [
    "# read in the bootstrapped data\n",
    "bootstrap_data = pd.read_csv('E57_targetmol_with_bootstrap.csv')\n",
    "# read in the compound names to go with this dataset\n",
    "compound_data = pd.read_csv('compounds.csv')\n",
    "\n",
    "# rename coluns and drop concentration well\n",
    "compound_data = compound_data.rename(columns={'well':'Metadata_well', 'compound ':'compound'})\n",
    "compound_data = compound_data.drop_duplicates()"
   ]
  },
  {
   "cell_type": "code",
   "execution_count": null,
   "id": "bb5a5ee4",
   "metadata": {},
   "outputs": [],
   "source": [
    "compound_data = compound_data.drop(\"concentration\", axis = 1)"
   ]
  },
  {
   "cell_type": "code",
   "execution_count": null,
   "id": "bfbeab26",
   "metadata": {},
   "outputs": [],
   "source": [
    "bootstrap_data = bootstrap_data.rename(columns={'conc':'concentration'})\n",
    "\n",
    "Data= pd.merge(compound_data, bootstrap_data, how='left', on='Metadata_well')"
   ]
  },
  {
   "cell_type": "markdown",
   "id": "a5e781ab",
   "metadata": {},
   "source": [
    "## senescence score"
   ]
  },
  {
   "cell_type": "code",
   "execution_count": null,
   "id": "a00a7bf8",
   "metadata": {
    "scrolled": true
   },
   "outputs": [],
   "source": [
    "#group data by plate name \n",
    "#calculate 2std above mean DMSO controls per plate \n",
    "\n",
    "grouped = Data.groupby(['Metadata_platename'], as_index=False)\n",
    "tot = []\n",
    "\n",
    "for name, plate in grouped:\n",
    "    #print(np.mean(plate.loc[plate['compound']=='DMSO']['sen_score']))\n",
    "    #print(plate)\n",
    "    new_dat = (np.mean(plate.loc[plate['compound']== 'Targetmol_DMSO']['sen_score'])) + plate['boostrapped_senscore_mean_std']*4\n",
    "    tot.append(new_dat)\n",
    "    #print(plate['DMSOsen_score+bootstrap_std2'])\n",
    "    #Data = Data.append(plate, ignore_index=False)\n",
    "\n",
    "col_new = pd.concat(tot)\n",
    "Data[\"DMSOsen_score+bootstrap_std2\"] = col_new\n",
    "        \n",
    "#creating a dataframe of compounds higher than two stds from the DMSO mean sen_score and with more than 200 cells \n",
    "\n",
    "higher = Data.loc[(Data['sen_score']>Data['DMSOsen_score+bootstrap_std2'])]\n",
    "\n",
    "higher_200 = higher.loc[(higher['cell_no']>200)]\n",
    "\n",
    "#creating a compound list\n",
    "\n",
    "higher_list = higher_200.compound.tolist()\n",
    "\n",
    "#creating a dataframe of all compounds appearing in the list \n",
    "\n",
    "Allhigherdata = pd.DataFrame(Data[Data['compound'].isin(higher_list)])\n",
    "\n",
    "#column 'higher' indicates which concentrations of the interesting compounds are significant\n",
    "\n",
    "Allhigherdata['higher'] = np.where((Allhigherdata['sen_score'] > Allhigherdata['DMSOsen_score+bootstrap_std2']) & (Allhigherdata['cell_no'] > 200), True, False)\n",
    "\n",
    "Allhigherdata = pd.DataFrame(Allhigherdata.sort_values('concentration'))"
   ]
  },
  {
   "cell_type": "code",
   "execution_count": null,
   "id": "f65e5f83",
   "metadata": {},
   "outputs": [],
   "source": [
    "#exporting\n",
    "\n",
    "file_name = 'E57_bootstrap_higher_compounds.csv'\n",
    "\n",
    "Allhigherdata.to_csv(file_name)"
   ]
  },
  {
   "cell_type": "markdown",
   "id": "f6de19c2",
   "metadata": {},
   "source": [
    "## fraction senescent"
   ]
  },
  {
   "cell_type": "code",
   "execution_count": null,
   "id": "5aa08418",
   "metadata": {
    "scrolled": true
   },
   "outputs": [],
   "source": [
    "#calculate number senescent and create column\n",
    "\n",
    "Data['number_sen'] = Data['fraction_sen']*Data['cell_no']\n",
    "\n",
    "#group data by plate name \n",
    "#calculate 4std above mean DMSO controls per plate \n",
    "\n",
    "tot_fraction = []\n",
    "\n",
    "for name, plate in grouped:\n",
    "    #print(plate.loc[plate['compound']=='DMSO']['fraction_sen'])\n",
    "    #print(name, plate)\n",
    "    new_data = (np.mean(plate.loc[plate['compound']=='Targetmol_DMSO']['fraction_sen']))*plate['cell_no'] + ((plate['boostrapped_numcells_mean_std'])*4)\n",
    "    tot_fraction.append(new_data)\n",
    "    \n",
    "column_new = pd.concat(tot_fraction)\n",
    "Data[\"DMSOnumber_sen+bootstrap_std2\"] = column_new\n",
    "        \n",
    "#creating a dataframe of compounds higher than two stds from the DMSO mean senescent number and with more than 200 cells \n",
    "\n",
    "higher_number_sen = Data.loc[(Data['number_sen']>Data['DMSOnumber_sen+bootstrap_std2'])]\n",
    "\n",
    "higher_200_number_sen = higher_number_sen.loc[(higher_number_sen['cell_no']>200)]\n",
    "\n",
    "#list of interesting compounds\n",
    "\n",
    "higher_list_number_sen = higher_200_number_sen.compound.tolist()\n",
    "\n",
    "#dataframe of interesting compounds at all concentrations \n",
    "\n",
    "FractionAllhigherdata = pd.DataFrame(Data[Data['compound'].isin(higher_list_number_sen)])\n",
    "\n",
    "#column 'higher' indicating which concentrations of the interesting compounds are significant\n",
    "\n",
    "FractionAllhigherdata['higher'] = np.where((FractionAllhigherdata['number_sen'] > FractionAllhigherdata['DMSOnumber_sen+bootstrap_std2']) & (FractionAllhigherdata['cell_no'] > 200), True, False)\n",
    "\n",
    "FractionAllhigherdata = pd.DataFrame(FractionAllhigherdata.sort_values('concentration'))\n"
   ]
  },
  {
   "cell_type": "code",
   "execution_count": null,
   "id": "795804e1",
   "metadata": {},
   "outputs": [],
   "source": [
    "#exporting\n",
    "\n",
    "file_name = 'E57_bootstrap_higher_compounds_fraction.csv'\n",
    "\n",
    "FractionAllhigherdata.to_csv(file_name)"
   ]
  },
  {
   "cell_type": "markdown",
   "id": "cc955dd5",
   "metadata": {},
   "source": [
    "## data visualisation"
   ]
  },
  {
   "cell_type": "code",
   "execution_count": null,
   "id": "2455286c",
   "metadata": {},
   "outputs": [],
   "source": [
    "negative_control = (Data.set_index(['compound'])).loc[['Targetmol_DMSO']]\n",
    "\n",
    "positive_control = (Data.set_index(['compound'])).loc[['Targetmol_PAC-5nM']]\n",
    "\n",
    "\n",
    "fig, axes = plt.subplots(1, figsize=(15,10))\n",
    "\n",
    "\n",
    "sb.scatterplot(data=Data, y='cell_no', x='sen_score', s=20, label='all data points', legend=False, alpha=0.7, size='concentration')\n",
    "sb.scatterplot(data=higher_200, y='cell_no', x='sen_score', label='greater than 4 std above the DMSO mean', s=20, size='concentration')\n",
    "sb.scatterplot(data=Data, y='cell_no', x='DMSOsen_score+bootstrap_std2', s=20, alpha=0.7, label= '4 std above the DMSO mean')\n",
    "sb.scatterplot(data=positive_control, y='cell_no', x='sen_score', label='positive control - PAC 5nM', color='r', size='concentration', legend=False)\n",
    "sb.scatterplot(data=negative_control, y='cell_no', x='sen_score', label='negative control - DMSO', color='m', size='concentration', legend=False)\n",
    "\n",
    "plt.legend(fontsize=16)\n",
    "plt.xlabel('Senescence Score', fontsize=20)\n",
    "plt.xticks(fontsize=20)\n",
    "plt.yticks(fontsize=20)\n",
    "plt.ylabel('Cell Number', fontsize=20)\n",
    "plt.title('E57', fontsize=25)\n"
   ]
  },
  {
   "cell_type": "code",
   "execution_count": null,
   "id": "4413dbb0",
   "metadata": {},
   "outputs": [],
   "source": [
    "fig, axes = plt.subplots(1, figsize=(15,10))\n",
    "\n",
    "\n",
    "sb.scatterplot(data=Data, y='cell_no', x='number_sen', alpha=0.5, label='all data')\n",
    "sb.scatterplot(data=Data, y='cell_no', x='DMSOnumber_sen+bootstrap_std2', alpha=0.5, color='g', label='bootstrap mean DMSO + 4 std')\n",
    "sb.scatterplot(data=higher_200_number_sen, y='cell_no', x='number_sen', label='greater than 4 std above mean')\n",
    "#sb.scatterplot(data=lower, y='cell_no', x='sen_score', label='smaller than 2 std below mean', alpha=0.4, color='g')\n",
    "sb.scatterplot(data=negative_control, y='cell_no', x='number_sen', label='negative control - DMSO', color='m', size='concentration')\n",
    "\n",
    "plt.legend()\n",
    "plt.xlabel('Senescent Number')\n",
    "plt.ylabel('Cell Number')\n"
   ]
  }
 ],
 "metadata": {
  "kernelspec": {
   "display_name": "Python 3 (ipykernel)",
   "language": "python",
   "name": "python3"
  },
  "language_info": {
   "codemirror_mode": {
    "name": "ipython",
    "version": 3
   },
   "file_extension": ".py",
   "mimetype": "text/x-python",
   "name": "python",
   "nbconvert_exporter": "python",
   "pygments_lexer": "ipython3",
   "version": "3.8.13"
  }
 },
 "nbformat": 4,
 "nbformat_minor": 5
}
