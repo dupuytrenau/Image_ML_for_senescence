{
 "cells": [
  {
   "cell_type": "code",
   "execution_count": null,
   "id": "dfda84ea",
   "metadata": {},
   "outputs": [],
   "source": [
    "import numpy as np\n",
    "import pandas as pd\n",
    "import matplotlib.pyplot as plt\n",
    "import seaborn as sb\n",
    "import plotly.express as px"
   ]
  },
  {
   "cell_type": "code",
   "execution_count": null,
   "id": "cee766ba",
   "metadata": {},
   "outputs": [],
   "source": [
    "# \"Data\" contains the E31 data including the mean std from the bootstrapping\n",
    "Data = pd.read_csv('E31_LOPAC_with_bootstrap.csv')\n",
    "\n",
    "Data = Data.rename(columns={'conc':'concentration'})"
   ]
  },
  {
   "cell_type": "code",
   "execution_count": null,
   "id": "09fb721c",
   "metadata": {},
   "outputs": [],
   "source": [
    "Data"
   ]
  },
  {
   "cell_type": "markdown",
   "id": "a5e781ab",
   "metadata": {},
   "source": [
    "## senescence score"
   ]
  },
  {
   "cell_type": "code",
   "execution_count": null,
   "id": "a00a7bf8",
   "metadata": {
    "scrolled": false
   },
   "outputs": [],
   "source": [
    "#group data by plate name (eg. A-P) \n",
    "#calculate 4std above mean DMSO controls per plate \n",
    "\n",
    "grouped = Data.groupby(['Metadata_platename'], as_index=False)\n",
    "tot = []\n",
    "\n",
    "for name, plate in grouped:\n",
    "    # \"name\" ids the name of the plate, and \"plate\" is the data for that plate\n",
    "    #print(name)\n",
    "    #print(plate)\n",
    "    new_dat = (np.mean(plate.loc[plate['compound']== 'DMSO']['sen_score'])) + plate['boostrapped_senscore_mean_std']*4\n",
    "    tot.append(new_dat)\n",
    "\n",
    "\n",
    "col_new = pd.concat(tot)\n",
    "Data[\"DMSOsen_score+bootstrap_std4\"] = col_new\n",
    "        \n",
    "#creating a dataframe of compounds higher than two stds from the DMSO mean sen_score and with more than 500 cells \n",
    "interesting_no_of_cells = 500\n",
    "\n",
    "higher = Data.loc[(Data['sen_score']>Data['DMSOsen_score+bootstrap_std4'])]\n",
    "\n",
    "higher_500 = higher.loc[(higher['cell_no']>interesting_no_of_cells)]\n",
    "\n",
    "#creating a compound list\n",
    "\n",
    "higher_list = higher_500.compound.tolist()\n",
    "\n",
    "#creating a dataframe of all compounds appearing in the list \n",
    "\n",
    "Allhigherdata = pd.DataFrame(Data[Data['compound'].isin(higher_list)])\n",
    "\n",
    "#column 'higher' indicates which concentrations of the interesting compounds are significant\n",
    "\n",
    "Allhigherdata['higher'] = np.where((Allhigherdata['sen_score'] > Allhigherdata['DMSOsen_score+bootstrap_std4']) & (Allhigherdata['cell_no'] > interesting_no_of_cells), True, False)\n",
    "\n",
    "Allhigherdata = pd.DataFrame(Allhigherdata.sort_values('concentration'))"
   ]
  },
  {
   "cell_type": "code",
   "execution_count": null,
   "id": "f65e5f83",
   "metadata": {},
   "outputs": [],
   "source": [
    "#exporting\n",
    "\n",
    "file_name = 'E31_bootstrap_LOPAC_compounds.csv'\n",
    "\n",
    "Allhigherdata.to_csv(file_name)"
   ]
  },
  {
   "cell_type": "markdown",
   "id": "f6de19c2",
   "metadata": {},
   "source": [
    "## fraction senescent"
   ]
  },
  {
   "cell_type": "code",
   "execution_count": null,
   "id": "5aa08418",
   "metadata": {},
   "outputs": [],
   "source": [
    "#calculate number senescent and create column\n",
    "\n",
    "Data['number_sen'] = Data['fraction_sen']*Data['cell_no']\n",
    "\n",
    "#group data by plate name (A-P) \n",
    "#calculate 2std above mean DMSO controls per plate \n",
    "\n",
    "tot_fraction = []\n",
    "\n",
    "for name, plate in grouped:\n",
    "    #print(np.mean(plate.loc[plate['compound']=='Targetmol_DMSO']['sen_score']))\n",
    "    #print(name)\n",
    "    new_data = (np.mean(plate.loc[plate['compound']=='DMSO']['fraction_sen']))*plate['cell_no'] + ((plate['boostrapped_numcells_mean_std'])*4)\n",
    "    tot_fraction.append(new_data)\n",
    "    \n",
    "col_new = pd.concat(tot_fraction)\n",
    "Data[\"DMSOnumber_sen+bootstrap_std4\"] = col_new\n",
    "        \n",
    "#creating a dataframe of compounds higher than two stds from the DMSO mean senescent number and with more than 200 cells \n",
    "interesting_no_of_cells = 500\n",
    "\n",
    "higher_number_sen = Data.loc[(Data['number_sen']>Data['DMSOnumber_sen+bootstrap_std4'])]\n",
    "\n",
    "higher_500_number_sen = higher_number_sen.loc[(higher_number_sen['cell_no']>interesting_no_of_cells)]\n",
    "\n",
    "higher_1500_number_sen = higher_number_sen.loc[(higher_number_sen['cell_no']>1500)]\n",
    "\n",
    "#list of interesting compounds\n",
    "\n",
    "higher_list_number_sen = higher_500_number_sen.compound.tolist()\n",
    "\n",
    "#dataframe of interesting compounds at all concentrations \n",
    "\n",
    "FractionAllhigherdata = pd.DataFrame(Data[Data['compound'].isin(higher_list_number_sen)])\n",
    "\n",
    "#column 'higher' indicating which concentrations of the interesting compounds are significant\n",
    "\n",
    "FractionAllhigherdata['higher'] = np.where((FractionAllhigherdata['number_sen'] > FractionAllhigherdata['DMSOnumber_sen+bootstrap_std4']) & (FractionAllhigherdata['cell_no'] > interesting_no_of_cells), True, False)\n",
    "\n",
    "FractionAllhigherdata = pd.DataFrame(FractionAllhigherdata.sort_values('concentration'))\n"
   ]
  },
  {
   "cell_type": "code",
   "execution_count": null,
   "id": "795804e1",
   "metadata": {},
   "outputs": [],
   "source": [
    "#exporting\n",
    "\n",
    "file_name = 'E31_bootstrap_LOPAC_compounds_fraction.csv'\n",
    "\n",
    "FractionAllhigherdata.to_csv(file_name)"
   ]
  },
  {
   "cell_type": "markdown",
   "id": "cc955dd5",
   "metadata": {},
   "source": [
    "## data visualisation"
   ]
  },
  {
   "cell_type": "code",
   "execution_count": null,
   "id": "2455286c",
   "metadata": {},
   "outputs": [],
   "source": [
    "negative_control = (Data.set_index(['compound'])).loc[['DMSO']]\n",
    "\n",
    "fig, axes = plt.subplots(1, figsize=(15,10))\n",
    "\n",
    "sb.scatterplot(data=Data, y='cell_no', x='sen_score', alpha=0.5, s=20, label='all data points', legend=False, size='concentration')\n",
    "sb.scatterplot(data=higher_500, y='cell_no', x='sen_score', label='greater than 4 std above the DMSO mean', s=20, size='concentration')\n",
    "#sb.scatterplot(data=Data, y='cell_no', x='DMSOsen_score+bootstrap_std4', s=20, alpha=0.2, label= '4 std above the DMSO mean')\n",
    "sb.scatterplot(data=negative_control, y='cell_no', x='sen_score', label='negative control - DMSO', color='m', size='concentration', alpha=0.7, legend=False)\n",
    "\n",
    "\n",
    "plt.legend(fontsize=16)\n",
    "plt.xlabel('Senescence Score', fontsize=20)\n",
    "plt.ylabel('Total number of cells', fontsize=20)\n",
    "plt.title('E31 LOPAC', fontsize=20)\n",
    "plt.xticks(fontsize=20)\n",
    "plt.yticks(fontsize=20)"
   ]
  },
  {
   "cell_type": "code",
   "execution_count": null,
   "id": "4413dbb0",
   "metadata": {},
   "outputs": [],
   "source": [
    "fig, axes = plt.subplots(1, figsize=(15,10))\n",
    "\n",
    "\n",
    "sb.scatterplot(data=Data, y='cell_no', x='number_sen', alpha=0.5, label='all data', legend=False)\n",
    "#sb.scatterplot(data=Data, y='cell_no', x='DMSOnumber_sen+bootstrap_std4', alpha=0.5, color='g', label='bootstrap mean DMSO + 4 std')\n",
    "sb.scatterplot(data=higher_500_number_sen, y='cell_no', x='number_sen', label='greater than 4 std above mean', size='concentration', legend=False)\n",
    "sb.scatterplot(data=negative_control, y='cell_no', x='number_sen', label='negative control - DMSO', color='m', size='concentration')\n",
    "\n",
    "plt.legend(fontsize=16)\n",
    "plt.xlabel('Number of senescent cells', fontsize=20)\n",
    "plt.ylabel('Total number of cells', fontsize=20)\n",
    "plt.title('E31 LOPAC', fontsize=20)\n",
    "plt.xticks(fontsize=20)\n",
    "plt.yticks(fontsize=20)"
   ]
  },
  {
   "cell_type": "code",
   "execution_count": null,
   "id": "0068dabf",
   "metadata": {},
   "outputs": [],
   "source": [
    "higher_1500_number_sen"
   ]
  },
  {
   "cell_type": "code",
   "execution_count": null,
   "id": "ab885377",
   "metadata": {},
   "outputs": [],
   "source": []
  }
 ],
 "metadata": {
  "kernelspec": {
   "display_name": "Python 3 (ipykernel)",
   "language": "python",
   "name": "python3"
  },
  "language_info": {
   "codemirror_mode": {
    "name": "ipython",
    "version": 3
   },
   "file_extension": ".py",
   "mimetype": "text/x-python",
   "name": "python",
   "nbconvert_exporter": "python",
   "pygments_lexer": "ipython3",
   "version": "3.8.13"
  }
 },
 "nbformat": 4,
 "nbformat_minor": 5
}
