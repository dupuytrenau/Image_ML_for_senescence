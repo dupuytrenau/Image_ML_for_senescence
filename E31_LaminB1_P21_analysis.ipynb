{
 "cells": [
  {
   "cell_type": "markdown",
   "id": "37bea0af",
   "metadata": {},
   "source": [
    "## Notebook showing analysis of data for cell line E31"
   ]
  },
  {
   "cell_type": "markdown",
   "id": "7caf7532",
   "metadata": {},
   "source": [
    "This motebook analyses the data data outputted from our cellProfiler pipeline for the cell line E31. The purpose of this notebook is to clearly show how this data was processed and analysed. Seperate python scripts exist for the application of our ML pipeline to drug discovery datasets. "
   ]
  },
  {
   "cell_type": "markdown",
   "id": "740173e5",
   "metadata": {},
   "source": [
    "Functions called by this notebook can be found in \"functions.py\""
   ]
  },
  {
   "cell_type": "markdown",
   "id": "0fecd45f",
   "metadata": {},
   "source": [
    "## Import packages"
   ]
  },
  {
   "cell_type": "code",
   "execution_count": null,
   "id": "eb4fb3af",
   "metadata": {},
   "outputs": [],
   "source": [
    "import numpy as np\n",
    "import pandas as pd\n",
    "import os\n",
    "import umap\n",
    "from sklearn.preprocessing import StandardScaler\n",
    "import plotly.express as px\n",
    "from sklearn.decomposition import PCA\n",
    "import plotly.graph_objects as go\n",
    "import hdbscan\n",
    "import matplotlib.pyplot as plt\n",
    "from sklearn.manifold import TSNE\n",
    "from sklearn.cluster import KMeans\n",
    "from sklearn.metrics import silhouette_score\n",
    "from sklearn.model_selection import train_test_split\n",
    "from sklearn import svm\n",
    "from sklearn import metrics\n",
    "from sklearn.inspection import permutation_importance\n",
    "from functions import *\n",
    "import scipy.cluster.hierarchy as sch\n",
    "from sklearn.ensemble import AdaBoostClassifier\n",
    "from sklearn.ensemble import GradientBoostingClassifier\n",
    "from sklearn.metrics import roc_auc_score\n",
    "from sklearn.metrics import RocCurveDisplay\n",
    "from sklearn.metrics import auc\n",
    "from sklearn.metrics import roc_curve"
   ]
  },
  {
   "cell_type": "markdown",
   "id": "843d6461",
   "metadata": {},
   "source": [
    "##  Read in data and pre-process"
   ]
  },
  {
   "cell_type": "markdown",
   "id": "ba9c088f",
   "metadata": {},
   "source": [
    "**E_31_NucleiObject**: Data relating to the nucleus identified by the DAPI stain"
   ]
  },
  {
   "cell_type": "markdown",
   "id": "4dff108e",
   "metadata": {},
   "source": [
    "**E_31_DilatedNuclei:** Data relating to a nulear shape slighly larger than the DAPI identified nucleus, done to capture the LaminB1 ring"
   ]
  },
  {
   "cell_type": "markdown",
   "id": "bddb7ef5",
   "metadata": {},
   "source": [
    "**data_preprocessing_Nuclei:**\n",
    "Takes a dataNucleiObject and process it, removing columns which relate to the location of the cell. We only want to keep the data for the DAPI stain and the nuclear morphology from these images, therefore we remove location data and columns relating to P21 and LaminB1."
   ]
  },
  {
   "cell_type": "markdown",
   "id": "65e8febc",
   "metadata": {},
   "source": [
    "**data_preprocessing_Dilated**: Takes a dataDilatedObject and process it, removing columns which relate to the location of the cell. We don't want to take the morphology data anymore as we've expanded the cell size to capture the P21 and LaminB1,so remove all data relating to nuclear DAPI stain."
   ]
  },
  {
   "cell_type": "code",
   "execution_count": null,
   "id": "7bb62150",
   "metadata": {},
   "outputs": [],
   "source": [
    "E_31_NucleiObject = pd.read_csv(\"/home/lucymartin/Documents/XDF/Cell_image_processing_code/Anna_data/final/E31_050423_P21_LaminB1NucleiObject.csv\")\n",
    "E_31_NucleiObject = data_processing_Nuclei(E_31_NucleiObject)\n",
    "E_31_DilatedNuclei = pd.read_csv(\"/home/lucymartin/Documents/XDF/Cell_image_processing_code/Anna_data/final/E31_050423_P21_LaminB1DilatedNuclei_1.csv\")\n",
    "E_31_DilatedNuclei = data_processing_Dilated(E_31_DilatedNuclei)"
   ]
  },
  {
   "cell_type": "code",
   "execution_count": null,
   "id": "eff75dd3",
   "metadata": {},
   "outputs": [],
   "source": [
    "# create one data object containing all the data\n",
    "data =  pd.concat([E_31_NucleiObject, E_31_DilatedNuclei], axis=1)"
   ]
  },
  {
   "cell_type": "markdown",
   "id": "91cc5ab0",
   "metadata": {},
   "source": [
    "## Rescale intensity measures based on background levels"
   ]
  },
  {
   "cell_type": "markdown",
   "id": "58de2f83",
   "metadata": {},
   "source": [
    "Want to scale all the control vaules to the same level and all the radiated to the same level? Could attempt to scale them all to the same thing but can't guarentee that the mask is masking all of the P21, so this might not be great"
   ]
  },
  {
   "cell_type": "code",
   "execution_count": null,
   "id": "cb0cdf61",
   "metadata": {},
   "outputs": [],
   "source": [
    "E_31_image = pd.read_csv(\"/home/lucymartin/Documents/XDF/Cell_image_processing_code/Anna_data/final/E31_050423_P21_LaminB1Image.csv\")"
   ]
  },
  {
   "cell_type": "markdown",
   "id": "f439c59e",
   "metadata": {},
   "source": [
    "Plot before rescaling"
   ]
  },
  {
   "cell_type": "code",
   "execution_count": null,
   "id": "e08f838b",
   "metadata": {},
   "outputs": [],
   "source": [
    "fig = px.histogram(data, x ='Intensity_MeanIntensity_CorrP21', color = 'ImageNumber', nbins = 2000)\n",
    "fig.update_layout(\n",
    "        font=dict(\n",
    "            size=16,\n",
    "        )\n",
    "    )\n",
    "fig.update_layout(\n",
    "    title=\"P21 in each cell before normalisation\",\n",
    "    xaxis_title=\"Mean P21 intensity\",\n",
    "    yaxis_title=\"Count\",\n",
    "    barmode='overlay')\n",
    "fig.update_traces(opacity=0.75)\n",
    "\n",
    "fig.show()"
   ]
  },
  {
   "cell_type": "code",
   "execution_count": null,
   "id": "789015b0",
   "metadata": {},
   "outputs": [],
   "source": [
    "data = rescale_from_background(data, E_31_image)"
   ]
  },
  {
   "cell_type": "markdown",
   "id": "03a2e2cd",
   "metadata": {},
   "source": [
    "Plot after rescaling"
   ]
  },
  {
   "cell_type": "code",
   "execution_count": null,
   "id": "b170728c",
   "metadata": {},
   "outputs": [],
   "source": [
    "fig = px.histogram(data, x ='Intensity_MeanIntensity_CorrP21', color = 'ImageNumber', nbins = 1000)\n",
    "fig.update_layout(\n",
    "        font=dict(\n",
    "            size=16,\n",
    "        )\n",
    "    )\n",
    "fig.update_layout(\n",
    "    title=\"P21 in each cell after normalisation\",\n",
    "    xaxis_title=\"Mean P21 intensity\",\n",
    "    yaxis_title=\"Count\",\n",
    "    barmode='overlay')\n",
    "fig.update_traces(opacity=0.75)\n",
    "\n",
    "fig.show()"
   ]
  },
  {
   "cell_type": "markdown",
   "id": "50ac1db1",
   "metadata": {},
   "source": [
    "## Remove columns that are entirely NaN"
   ]
  },
  {
   "cell_type": "code",
   "execution_count": null,
   "id": "ac1dd5a8",
   "metadata": {},
   "outputs": [],
   "source": [
    "data = data.dropna(axis='columns')"
   ]
  },
  {
   "cell_type": "markdown",
   "id": "4b5b4ae1",
   "metadata": {},
   "source": [
    "## Remove cells that are an outlier in many catagories"
   ]
  },
  {
   "cell_type": "markdown",
   "id": "04b2e484",
   "metadata": {},
   "source": [
    "For each cell want to calculate an outlier score - if a cell is outside of the 95th percentile in a load of the catagories then its probably not a cell "
   ]
  },
  {
   "cell_type": "code",
   "execution_count": null,
   "id": "4139b499",
   "metadata": {},
   "outputs": [],
   "source": [
    "data = find_outliers(data, 70)"
   ]
  },
  {
   "cell_type": "markdown",
   "id": "88f3d66c",
   "metadata": {},
   "source": [
    "## Filter based on cell size"
   ]
  },
  {
   "cell_type": "markdown",
   "id": "304de0d4",
   "metadata": {},
   "source": [
    "Removes any very small cells whih are likely to be artifacts and not real"
   ]
  },
  {
   "cell_type": "code",
   "execution_count": null,
   "id": "7c19acff",
   "metadata": {},
   "outputs": [],
   "source": [
    "data = data[data['AreaShape_Area'] > 180]"
   ]
  },
  {
   "cell_type": "markdown",
   "id": "67c2d2f4",
   "metadata": {},
   "source": [
    "## Filter based on Std dev"
   ]
  },
  {
   "cell_type": "markdown",
   "id": "f47f9c4d",
   "metadata": {},
   "source": [
    "Removes any cells with a small DAPI std, which are likely to be out of focus"
   ]
  },
  {
   "cell_type": "code",
   "execution_count": null,
   "id": "7e99fc46",
   "metadata": {},
   "outputs": [],
   "source": [
    "data = data[data['Intensity_StdIntensity_CorrNuclei'] > 0.001]"
   ]
  },
  {
   "cell_type": "markdown",
   "id": "a0e10531",
   "metadata": {},
   "source": [
    "## Create new features"
   ]
  },
  {
   "cell_type": "code",
   "execution_count": null,
   "id": "8f1d9ba6",
   "metadata": {},
   "outputs": [],
   "source": [
    "data = create_new_features(data)"
   ]
  },
  {
   "cell_type": "markdown",
   "id": "3e2e875b",
   "metadata": {},
   "source": [
    "## Look at histograms of P21 and LaminB1"
   ]
  },
  {
   "cell_type": "code",
   "execution_count": null,
   "id": "c4dc5fc7",
   "metadata": {},
   "outputs": [],
   "source": [
    "# line and shape = [x0, y0, x1, y1]\n",
    "projection_line = [1., 0.025, 1.6, 0.005]\n",
    "shaded = [0.5, 0.0115, 1.065, 0.16]\n",
    "titles = [\"E31\", \"Maximum value of the mean fractional LaminB1 intensity\", \"Mean intensity of P21\"]\n",
    "\n",
    "plot_hist_with_extras(data,'RadialDistribution_MeanFrac_CorrLaminB1_max', 'Intensity_MeanIntensity_CorrP21', projection_line, shaded, titles)"
   ]
  },
  {
   "cell_type": "code",
   "execution_count": null,
   "id": "d2946330",
   "metadata": {},
   "outputs": [],
   "source": [
    "# line and shape = [x0, y0, x1, y1]\n",
    "line = []\n",
    "shaded = []\n",
    "titles = [\"E31\", \"Maximum value of frac at distance * total intensity\", \"Mean intensity of P21\"]\n",
    "\n",
    "plot_hist_with_extras(data, 'RadialDistribution_MaxIntensFrac_CorrLaminB1_max', 'Intensity_MeanIntensity_CorrP21', line, shaded, titles)"
   ]
  },
  {
   "cell_type": "code",
   "execution_count": null,
   "id": "6f0a13e2",
   "metadata": {},
   "outputs": [],
   "source": [
    "# line and shape = [x0, y0, x1, y1]\n",
    "projection_line = [0, 0.03, 0.02, 0.005]\n",
    "shaded = [0.0, 0.0115, 0.006, 0.16]\n",
    "shaded_2 = [0.0063, 0, 0.06, 0.01]\n",
    "titles = [\"E31\", \"Mean intensity of LaminB1\", \"Mean intensity of P21\"]\n",
    "\n",
    "plot_hist_with_extras_2(data, 'Intensity_MeanIntensity_CorrLaminB1', 'Intensity_MeanIntensity_CorrP21', line, shaded, shaded_2, titles)"
   ]
  },
  {
   "cell_type": "markdown",
   "id": "53d923e6",
   "metadata": {},
   "source": [
    "## Use this to add a column labelling those with low LaminB1 and high P21 as senescent"
   ]
  },
  {
   "cell_type": "markdown",
   "id": "dadf5256",
   "metadata": {},
   "source": [
    "Thresholds determined by eye "
   ]
  },
  {
   "cell_type": "code",
   "execution_count": null,
   "id": "3aeef3a9",
   "metadata": {},
   "outputs": [],
   "source": [
    "Lam_cutoff = 0.006\n",
    "P21_cutoff = 0.0115\n",
    "\n",
    "data['Senescent'] = 0\n",
    "data.loc[(data.Intensity_MeanIntensity_CorrLaminB1 < Lam_cutoff) & (data.Intensity_MeanIntensity_CorrP21 > P21_cutoff), 'Senescent'] = 1"
   ]
  },
  {
   "cell_type": "code",
   "execution_count": null,
   "id": "5be2193d",
   "metadata": {},
   "outputs": [],
   "source": [
    "Lam_cutoff_1 = 0.0063\n",
    "P21_cutoff_1 = 0.01\n",
    "\n",
    "data['Not Senescent'] = 0\n",
    "data.loc[(data.Intensity_MeanIntensity_CorrLaminB1 > Lam_cutoff_1) & (data.Intensity_MeanIntensity_CorrP21 < P21_cutoff_1), 'Not Senescent'] = 1"
   ]
  },
  {
   "cell_type": "code",
   "execution_count": null,
   "id": "4ad896d1",
   "metadata": {},
   "outputs": [],
   "source": [
    "print('Number of cells defined as senescent:')\n",
    "print(sum(data['Senescent']))"
   ]
  },
  {
   "cell_type": "code",
   "execution_count": null,
   "id": "28016370",
   "metadata": {},
   "outputs": [],
   "source": [
    "print('Number of cells defined as not senescent:')\n",
    "print(sum(data['Not Senescent']))"
   ]
  },
  {
   "cell_type": "markdown",
   "id": "32ced638",
   "metadata": {},
   "source": [
    "## Project onto senescence axis"
   ]
  },
  {
   "cell_type": "code",
   "execution_count": null,
   "id": "ee350050",
   "metadata": {},
   "outputs": [],
   "source": [
    "data = project_onto_line(data, 'RadialDistribution_MeanFrac_CorrLaminB1_max', 'Intensity_MeanIntensity_CorrP21', projection_line)\n",
    "#data, grad, c = project_onto_line_pca(data, 'Intensity_MeanIntensity_CorrLaminB1', 'Intensity_MeanIntensity_CorrP21')"
   ]
  },
  {
   "cell_type": "markdown",
   "id": "49e754db",
   "metadata": {},
   "source": [
    "## Create data_for_umap"
   ]
  },
  {
   "cell_type": "code",
   "execution_count": null,
   "id": "87dcc95e",
   "metadata": {},
   "outputs": [],
   "source": [
    "data_for_umap = data.dropna(axis='columns')\n",
    "data_for_umap = data_for_umap.drop(['Metadata_CellLine', 'ImageNumber', 'ObjectNumber', 'Metadata_Radiated', 'Number_Object_Number', 'Senescent', 'Not Senescent', 'x_proj', 'y_proj'], axis = 1)"
   ]
  },
  {
   "cell_type": "markdown",
   "id": "c971f5ba",
   "metadata": {},
   "source": [
    "## Add a threshold in the data to remove features with low variance"
   ]
  },
  {
   "cell_type": "code",
   "execution_count": null,
   "id": "196a492a",
   "metadata": {},
   "outputs": [],
   "source": [
    "filter_threshold = 0.2\n",
    "data_for_umap_filtered, filtered_columns = variance_threshold(data_for_umap, filter_threshold)"
   ]
  },
  {
   "cell_type": "code",
   "execution_count": null,
   "id": "a7a79e3e",
   "metadata": {},
   "outputs": [],
   "source": [
    "filtered_columns[100:200]"
   ]
  },
  {
   "cell_type": "markdown",
   "id": "93784997",
   "metadata": {},
   "source": [
    "## Format data for PCA"
   ]
  },
  {
   "cell_type": "code",
   "execution_count": null,
   "id": "472459ed",
   "metadata": {},
   "outputs": [],
   "source": [
    "# Drop column with nan as all of the entries\n",
    "data_for_pca = data.dropna(axis='columns')\n",
    "# replace an infinities with nan, then drop cells with nan\n",
    "data_for_pca.replace([np.inf, -np.inf], np.nan, inplace=True)\n",
    "data_for_pca = data_for_pca.dropna()"
   ]
  },
  {
   "cell_type": "markdown",
   "id": "286c74c7",
   "metadata": {},
   "source": [
    "-----------------------"
   ]
  },
  {
   "cell_type": "markdown",
   "id": "ad867b42",
   "metadata": {},
   "source": [
    "# Machine learning"
   ]
  },
  {
   "cell_type": "markdown",
   "id": "8fb38069",
   "metadata": {},
   "source": [
    "## Split data into test and train"
   ]
  },
  {
   "cell_type": "code",
   "execution_count": null,
   "id": "25421538",
   "metadata": {},
   "outputs": [],
   "source": [
    "y = data_for_pca[\"Senescent\"]"
   ]
  },
  {
   "cell_type": "markdown",
   "id": "993a2688",
   "metadata": {},
   "source": [
    "Remove all data not DAPI related"
   ]
  },
  {
   "cell_type": "code",
   "execution_count": null,
   "id": "9e1bab10",
   "metadata": {},
   "outputs": [],
   "source": [
    "#remove everything not DAPI related\n",
    "x = data_for_pca.copy()\n",
    "x = x.drop(['Metadata_CellLine', 'ImageNumber', 'ObjectNumber', 'Metadata_Radiated', 'Number_Object_Number', 'Senescent', 'Not Senescent'], axis = 1)"
   ]
  },
  {
   "cell_type": "code",
   "execution_count": null,
   "id": "05af426c",
   "metadata": {},
   "outputs": [],
   "source": [
    "to_drop = []\n",
    "for column in x.columns:\n",
    "    split_cols = column.split('_')\n",
    "    if len(split_cols) > 2:\n",
    "        if split_cols[2] == 'CorrLaminB1' or split_cols[2] == 'CorrP21':\n",
    "            to_drop.append(column)\n",
    "x = x.drop(to_drop, axis = 1)"
   ]
  },
  {
   "cell_type": "code",
   "execution_count": null,
   "id": "3a62f3f1",
   "metadata": {},
   "outputs": [],
   "source": [
    "x.columns"
   ]
  },
  {
   "cell_type": "code",
   "execution_count": null,
   "id": "9aa3a481",
   "metadata": {},
   "outputs": [],
   "source": [
    "print(\"Shape of x data\")\n",
    "print(x.shape)"
   ]
  },
  {
   "cell_type": "markdown",
   "id": "c60000bf",
   "metadata": {},
   "source": [
    "split into test and train"
   ]
  },
  {
   "cell_type": "code",
   "execution_count": null,
   "id": "85c7142c",
   "metadata": {},
   "outputs": [],
   "source": [
    "fraction_to_test = 0.5"
   ]
  },
  {
   "cell_type": "code",
   "execution_count": null,
   "id": "63ad7d7b",
   "metadata": {},
   "outputs": [],
   "source": [
    "x_train_full, x_test_full, y_train, y_test = train_test_split(x, y, test_size=fraction_to_test)"
   ]
  },
  {
   "cell_type": "markdown",
   "id": "7e67d474",
   "metadata": {},
   "source": [
    "drop the projection columns here so don't use them for ML but can still plot them "
   ]
  },
  {
   "cell_type": "code",
   "execution_count": null,
   "id": "af4b173f",
   "metadata": {},
   "outputs": [],
   "source": [
    "x_train = x_train_full.copy().drop(['x_proj', 'y_proj'], axis = 1)\n",
    "x_test = x_test_full.copy().drop(['x_proj', 'y_proj'], axis = 1)"
   ]
  },
  {
   "cell_type": "code",
   "execution_count": null,
   "id": "12c1ec97",
   "metadata": {},
   "outputs": [],
   "source": [
    "x_test = StandardScaler().fit_transform(x_test)\n",
    "x_train = StandardScaler().fit_transform(x_train)"
   ]
  },
  {
   "cell_type": "code",
   "execution_count": null,
   "id": "f8f628cf",
   "metadata": {},
   "outputs": [],
   "source": [
    "print(\"Shape of training data\")\n",
    "print(x_train.shape)"
   ]
  },
  {
   "cell_type": "code",
   "execution_count": null,
   "id": "8edc4055",
   "metadata": {},
   "outputs": [],
   "source": [
    "print(\"Shape of testing data\")\n",
    "print(x_train_full.shape)"
   ]
  },
  {
   "cell_type": "markdown",
   "id": "b41cc136",
   "metadata": {},
   "source": [
    "## SVM"
   ]
  },
  {
   "cell_type": "code",
   "execution_count": null,
   "id": "6a112e2f",
   "metadata": {},
   "outputs": [],
   "source": [
    "# selesct \"balanced\" option as have far fewer positively identified senescenet cells\n",
    "clf_svm = svm.SVC(kernel='rbf', class_weight='balanced')"
   ]
  },
  {
   "cell_type": "code",
   "execution_count": null,
   "id": "a8594669",
   "metadata": {},
   "outputs": [],
   "source": [
    "clf_svm.fit(x_train, y_train)"
   ]
  },
  {
   "cell_type": "code",
   "execution_count": null,
   "id": "2f4391f3",
   "metadata": {},
   "outputs": [],
   "source": [
    "y_pred_svm = clf_svm.predict(x_test)"
   ]
  },
  {
   "cell_type": "code",
   "execution_count": null,
   "id": "1d92ab2c",
   "metadata": {},
   "outputs": [],
   "source": [
    "print(\"Accuracy:\",metrics.accuracy_score(y_test, y_pred_svm))\n",
    "# Model Precision: \n",
    "# What proportion of positive identifications were actually correct?\n",
    "print(\"Precision:\",metrics.precision_score(y_test, y_pred_svm))\n",
    "# Model Recall:\n",
    "# What proportion of actual positives were identified correctly?\n",
    "print(\"Recall:\",metrics.recall_score(y_test, y_pred_svm))"
   ]
  },
  {
   "cell_type": "code",
   "execution_count": null,
   "id": "6ec28c73",
   "metadata": {},
   "outputs": [],
   "source": [
    "pred_probs_svm = clf_svm.decision_function(x_test)\n",
    "results_df = pd.DataFrame([pred_probs_svm, y_test]).T\n",
    "results_df = results_df.sort_values(by=[0])"
   ]
  },
  {
   "cell_type": "code",
   "execution_count": null,
   "id": "467a213c",
   "metadata": {},
   "outputs": [],
   "source": [
    "fig = px.histogram(x = pred_probs_svm, title = \"SVM senescence score distribution\")\n",
    "fig.update_layout(\n",
    "        font=dict(\n",
    "            size=16,\n",
    "        )\n",
    "    )\n",
    "fig.update_layout(\n",
    "        xaxis_title=\"Senescencen score\",\n",
    "        yaxis_title=\"Count\")\n",
    "\n",
    "fig.show()"
   ]
  },
  {
   "cell_type": "code",
   "execution_count": null,
   "id": "8162fcab",
   "metadata": {},
   "outputs": [],
   "source": [
    "plot_ordered_classifier_score(results_df, \"E31\", \"SVM\")"
   ]
  },
  {
   "cell_type": "code",
   "execution_count": null,
   "id": "56a1621b",
   "metadata": {},
   "outputs": [],
   "source": [
    "x_test_plot = x_test.copy()"
   ]
  },
  {
   "cell_type": "code",
   "execution_count": null,
   "id": "34e0cbe3",
   "metadata": {},
   "outputs": [],
   "source": [
    "tsne = TSNE(n_components=2, verbose=1, perplexity=40, n_iter=300)\n",
    "tsne_results_test = tsne.fit_transform(x_test_plot)"
   ]
  },
  {
   "cell_type": "code",
   "execution_count": null,
   "id": "82b0cdf7",
   "metadata": {},
   "outputs": [],
   "source": [
    "plot_projection(\"E31 TSNE on PCA coloured by SVM classifier score \", tsne_results_test, pred_probs_svm)"
   ]
  },
  {
   "cell_type": "code",
   "execution_count": null,
   "id": "42f9b19b",
   "metadata": {
    "scrolled": true
   },
   "outputs": [],
   "source": [
    "plot_projection(\"E31 TSNE on PCA coloured by p21 senescence classification \", tsne_results_test, y_test)"
   ]
  },
  {
   "cell_type": "markdown",
   "id": "33f6bfab",
   "metadata": {},
   "source": [
    "## Test and train on sensesent and non-sen"
   ]
  },
  {
   "cell_type": "markdown",
   "id": "047e4f0c",
   "metadata": {},
   "source": [
    "This is subtly different, we now only test and train on the cells we classified as very senescent and very non-senescent with the DAPI stain. "
   ]
  },
  {
   "cell_type": "code",
   "execution_count": null,
   "id": "d8f64509",
   "metadata": {},
   "outputs": [],
   "source": [
    "# filter data for cells with only a score in either senescence or no senescence columns\n",
    "x_2_catagories = data_for_pca.copy()\n",
    "x_2_catagories = x_2_catagories[(x_2_catagories['Senescent'] == 1)|(x_2_catagories['Not Senescent'] == 1)]\n",
    "y_2 = x_2_catagories[\"Senescent\"]"
   ]
  },
  {
   "cell_type": "code",
   "execution_count": null,
   "id": "ef4e6bc6",
   "metadata": {},
   "outputs": [],
   "source": [
    "x_2_catagories = x_2_catagories.drop(['Metadata_CellLine', 'ImageNumber', 'ObjectNumber', 'Metadata_Radiated', 'Number_Object_Number', 'Senescent', 'Not Senescent', 'x_proj', 'y_proj'], axis = 1)\n",
    "to_drop = []\n",
    "for column in x_2_catagories.columns:\n",
    "    split_cols = column.split('_')\n",
    "    if len(split_cols) > 2:\n",
    "        if split_cols[2] == 'CorrLaminB1' or split_cols[2] == 'CorrP21':\n",
    "            to_drop.append(column)\n",
    "x_2_catagories = x_2_catagories.drop(to_drop, axis = 1)\n",
    "\n",
    "x_train_2, x_test_2, y_train_2, y_test_2 = train_test_split(x_2_catagories, y_2, test_size=fraction_to_test)"
   ]
  },
  {
   "cell_type": "code",
   "execution_count": null,
   "id": "1c5aac0b",
   "metadata": {},
   "outputs": [],
   "source": [
    "x_train_2 = StandardScaler().fit_transform(x_train_2)\n",
    "x_test_2 = StandardScaler().fit_transform(x_test_2)"
   ]
  },
  {
   "cell_type": "markdown",
   "id": "da666d19",
   "metadata": {},
   "source": [
    "**Train on the 2 subtypes, test on the two subtypes**"
   ]
  },
  {
   "cell_type": "code",
   "execution_count": null,
   "id": "1cc141f8",
   "metadata": {},
   "outputs": [],
   "source": [
    "clf_svm_2 = svm.SVC(kernel='rbf')\n",
    "clf_svm_2.fit(x_train_2, y_train_2)\n",
    "y_pred_svm_2 = clf_svm_2.predict(x_test_2)\n",
    "pred_probs_svm_2 = clf_svm_2.decision_function(x_test_2)"
   ]
  },
  {
   "cell_type": "code",
   "execution_count": null,
   "id": "2e7ca4cb",
   "metadata": {},
   "outputs": [],
   "source": [
    "print(\"Accuracy:\",metrics.accuracy_score(y_test_2, y_pred_svm_2))\n",
    "print(\"Precision:\",metrics.precision_score(y_test_2, y_pred_svm_2))\n",
    "print(\"Recall:\",metrics.recall_score(y_test_2, y_pred_svm_2))"
   ]
  },
  {
   "cell_type": "markdown",
   "id": "96847251",
   "metadata": {},
   "source": [
    "**train on the 2 subtypes, test on all**"
   ]
  },
  {
   "cell_type": "code",
   "execution_count": null,
   "id": "4d203745",
   "metadata": {},
   "outputs": [],
   "source": [
    "y_pred_svm_3 = clf_svm_2.predict(x_test)\n",
    "pred_probs_svm_3 = clf_svm_2.decision_function(x_test)\n",
    "print(\"Accuracy:\",metrics.accuracy_score(y_test, y_pred_svm_3))\n",
    "print(\"Precision:\",metrics.precision_score(y_test, y_pred_svm_3))\n",
    "print(\"Recall:\",metrics.recall_score(y_test, y_pred_svm_3))"
   ]
  },
  {
   "cell_type": "code",
   "execution_count": null,
   "id": "eaaf4aab",
   "metadata": {},
   "outputs": [],
   "source": [
    "fpr, tpr, thresholds = roc_curve(y_test, pred_probs_svm)\n",
    "roc_auc = auc(fpr, tpr)\n",
    "\n",
    "fpr_2, tpr_2, thresholds_2 = roc_curve(y_test_2, pred_probs_svm_2)\n",
    "roc_auc_2 = auc(fpr_2, tpr_2)\n",
    "\n",
    "fpr_3, tpr_3, thresholds_3 = roc_curve(y_test, pred_probs_svm_3)\n",
    "roc_auc_3 = auc(fpr_3, tpr_3)\n",
    "\n",
    "display = RocCurveDisplay(fpr=fpr, tpr=tpr, roc_auc=roc_auc,estimator_name='example estimator')\n",
    "display_2 = RocCurveDisplay(fpr=fpr_2, tpr=tpr_2, roc_auc=roc_auc_2,estimator_name='example estimator')\n",
    "display_3 = RocCurveDisplay(fpr=fpr_3, tpr=tpr_3, roc_auc=roc_auc_3,estimator_name='example estimator')\n",
    "display.plot()\n",
    "display_2.plot()\n",
    "display_3.plot()\n",
    "plt.show()"
   ]
  },
  {
   "cell_type": "markdown",
   "id": "c62a3382",
   "metadata": {},
   "source": [
    "## Vary test and train split"
   ]
  },
  {
   "cell_type": "code",
   "execution_count": null,
   "id": "2e50efd4",
   "metadata": {},
   "outputs": [],
   "source": [
    "frac_test_array = np.arange(0.05, 1.0, 0.01)\n",
    "frac_acc = []\n",
    "frac_prec = []\n",
    "frac_rec = []\n",
    "\n",
    "for frac in frac_test_array:\n",
    "    x_train_vary, x_test_vary, y_train_vary, y_test_vary = train_test_split(x_2_catagories, y_2, test_size=frac)\n",
    "    # train on the 2 subtypes, test on the two subtypes\n",
    "    x_train_vary = StandardScaler().fit_transform(x_train_vary)\n",
    "    x_test_vary = StandardScaler().fit_transform(x_test_vary)\n",
    "    clf_svm_vary = svm.SVC(kernel='rbf')\n",
    "    clf_svm_vary.fit(x_train_vary, y_train_vary)\n",
    "    y_pred_vary = clf_svm_vary.predict(x_test_vary)\n",
    "    pred_probs_vary = clf_svm_vary.decision_function(x_test_vary)\n",
    "    frac_acc.append(metrics.accuracy_score(y_test_vary, y_pred_vary))\n",
    "    frac_prec.append(metrics.precision_score(y_test_vary, y_pred_vary))\n",
    "    frac_rec.append(metrics.recall_score(y_test_vary, y_pred_vary))\n",
    "\n",
    "frac_to_plot = pd.DataFrame(np.array([frac_test_array, frac_acc, frac_prec, frac_rec]).T, columns = [\"frac to test\", \"accuracy\", \"precision\", \"recall\"])\n",
    "\n",
    "fig = go.Figure()\n",
    "fig.add_trace(go.Scatter(x = frac_to_plot[\"frac to test\"], y = frac_to_plot[\"accuracy\"], mode = \"markers\", name = \"Accuracy\"))\n",
    "fig.add_trace(go.Scatter(x = frac_to_plot[\"frac to test\"], y = frac_to_plot[\"precision\"], mode = \"markers\", name = \"Precision\"))\n",
    "fig.add_trace(go.Scatter(x = frac_to_plot[\"frac to test\"], y = frac_to_plot[\"recall\"], mode = \"markers\", name = \"Recall\"))\n",
    "fig.update_layout(\n",
    "        font=dict(\n",
    "            size=22,\n",
    "        )\n",
    "    )\n",
    "fig.update_layout(\n",
    "        title=\"E31 test train split\",\n",
    "        xaxis_title=\"Fraction of cells tested on\",\n",
    "        yaxis_title=\"Metric\")"
   ]
  },
  {
   "cell_type": "markdown",
   "id": "5f89b64a",
   "metadata": {},
   "source": [
    "## Find important features"
   ]
  },
  {
   "cell_type": "markdown",
   "id": "77e5b9b0",
   "metadata": {},
   "source": [
    "Use with caution - can take a long time to run! Finds the most import and features in the SVM model. "
   ]
  },
  {
   "cell_type": "code",
   "execution_count": null,
   "id": "f86a2ad7",
   "metadata": {},
   "outputs": [],
   "source": [
    "perm_importance = permutation_importance(clf_svm, x_test, y_test)\n",
    "\n",
    "feature_names = x.columns\n",
    "features = np.array(feature_names)\n",
    "\n",
    "sorted_idx = perm_importance.importances_mean.argsort()"
   ]
  },
  {
   "cell_type": "code",
   "execution_count": null,
   "id": "da7bb896",
   "metadata": {},
   "outputs": [],
   "source": [
    "fig = go.Figure()\n",
    "fig.add_trace(go.Bar(\n",
    "    y=features[sorted_idx][-20:],\n",
    "    x=perm_importance.importances_mean[sorted_idx][-20:],\n",
    "    name='SF Zoo',\n",
    "    orientation='h',\n",
    "    marker=dict(\n",
    "        color='blue',\n",
    "        line=dict(color='darkblue', width=3), opacity = 0.6\n",
    "    )\n",
    "))\n",
    "fig.update_layout(\n",
    "        font=dict(\n",
    "            size=14,\n",
    "        ),\n",
    "    title = \"E31 20 most important features in SVM\",\n",
    "    )"
   ]
  },
  {
   "cell_type": "markdown",
   "id": "3f16148c",
   "metadata": {},
   "source": [
    "## Save x and y"
   ]
  },
  {
   "cell_type": "code",
   "execution_count": null,
   "id": "28951e31",
   "metadata": {},
   "outputs": [],
   "source": [
    "x = x.drop(['x_proj', 'y_proj'], axis = 1)"
   ]
  },
  {
   "cell_type": "code",
   "execution_count": null,
   "id": "f7ffd11c",
   "metadata": {},
   "outputs": [],
   "source": [
    "# x.to_csv(\"E31_x.csv\")"
   ]
  },
  {
   "cell_type": "code",
   "execution_count": null,
   "id": "81e06370",
   "metadata": {},
   "outputs": [],
   "source": [
    "# np.array(y).tofile('E31_y.csv',sep=',')"
   ]
  },
  {
   "cell_type": "markdown",
   "id": "0c9b8fea",
   "metadata": {},
   "source": [
    "## Ada boost"
   ]
  },
  {
   "cell_type": "markdown",
   "id": "75a04f67",
   "metadata": {},
   "source": [
    "Test the AdaBoost method, using many decision\"stumps\""
   ]
  },
  {
   "cell_type": "code",
   "execution_count": null,
   "id": "3e93fe8d",
   "metadata": {},
   "outputs": [],
   "source": [
    "clf_ada = AdaBoostClassifier(n_estimators=100, random_state=0)\n",
    "clf_ada.fit(x_train, y_train)"
   ]
  },
  {
   "cell_type": "code",
   "execution_count": null,
   "id": "58acfae2",
   "metadata": {},
   "outputs": [],
   "source": [
    "y_pred_ada = clf_ada.predict(x_test)"
   ]
  },
  {
   "cell_type": "code",
   "execution_count": null,
   "id": "41f9d48a",
   "metadata": {},
   "outputs": [],
   "source": [
    "print(\"Accuracy:\",metrics.accuracy_score(y_test, y_pred_ada))\n",
    "# What proportion of positive identifications were actually correct?\n",
    "print(\"Precision:\",metrics.precision_score(y_test, y_pred_ada))\n",
    "# What proportion of actual positives were identified correctly?\n",
    "print(\"Recall:\",metrics.recall_score(y_test, y_pred_ada))"
   ]
  },
  {
   "cell_type": "code",
   "execution_count": null,
   "id": "11600746",
   "metadata": {},
   "outputs": [],
   "source": [
    "pred_probs_ada = clf_ada.decision_function(x_test)"
   ]
  },
  {
   "cell_type": "code",
   "execution_count": null,
   "id": "d7ef9aa9",
   "metadata": {},
   "outputs": [],
   "source": [
    "px.histogram(x = pred_probs_ada)"
   ]
  },
  {
   "cell_type": "code",
   "execution_count": null,
   "id": "96006945",
   "metadata": {},
   "outputs": [],
   "source": [
    "results_df_ada = pd.DataFrame([pred_probs_ada, y_test]).T\n",
    "results_df_ada = results_df_ada.sort_values(by=[0])"
   ]
  },
  {
   "cell_type": "code",
   "execution_count": null,
   "id": "fec7b792",
   "metadata": {
    "scrolled": true
   },
   "outputs": [],
   "source": [
    "plot_projection(\"E31 TSNE on PCA coloured by Ada boost classifier score \", tsne_results_test, pred_probs_ada)"
   ]
  },
  {
   "cell_type": "markdown",
   "id": "0edb4ac9",
   "metadata": {},
   "source": [
    "**Train on the 2 subtypes, test on the two subtypes**"
   ]
  },
  {
   "cell_type": "code",
   "execution_count": null,
   "id": "fe5109c4",
   "metadata": {},
   "outputs": [],
   "source": [
    "clf_ada_2 = AdaBoostClassifier(n_estimators=100, random_state=0)\n",
    "clf_ada_2.fit(x_train_2, y_train_2)\n",
    "y_pred_ada_2 = clf_ada_2.predict(x_test_2)\n",
    "print(\"Accuracy:\",metrics.accuracy_score(y_test_2, y_pred_ada_2))\n",
    "print(\"Precision:\",metrics.precision_score(y_test_2, y_pred_ada_2))\n",
    "print(\"Recall:\",metrics.recall_score(y_test_2, y_pred_ada_2))"
   ]
  },
  {
   "cell_type": "markdown",
   "id": "538d96c9",
   "metadata": {},
   "source": [
    "**Train on the 2 subtypes, test on all**"
   ]
  },
  {
   "cell_type": "code",
   "execution_count": null,
   "id": "114bccd9",
   "metadata": {},
   "outputs": [],
   "source": [
    "y_pred_ada_3 = clf_ada_2.predict(x_test)\n",
    "print(\"Accuracy:\",metrics.accuracy_score(y_test, y_pred_ada_3))\n",
    "print(\"Precision:\",metrics.precision_score(y_test, y_pred_ada_3))\n",
    "print(\"Recall:\",metrics.recall_score(y_test, y_pred_ada_3))"
   ]
  },
  {
   "cell_type": "markdown",
   "id": "eab33741",
   "metadata": {},
   "source": [
    "## Gradient boosting"
   ]
  },
  {
   "cell_type": "markdown",
   "id": "ca3e413e",
   "metadata": {},
   "source": [
    "Test GradientBoost method, using many decision trees"
   ]
  },
  {
   "cell_type": "code",
   "execution_count": null,
   "id": "20a291c3",
   "metadata": {},
   "outputs": [],
   "source": [
    "clf_boost = GradientBoostingClassifier(n_estimators=200, learning_rate=1.0,\n",
    "                                 max_depth=5, random_state=0).fit(x_train, y_train)"
   ]
  },
  {
   "cell_type": "code",
   "execution_count": null,
   "id": "3f1d49d6",
   "metadata": {},
   "outputs": [],
   "source": [
    "y_pred_boost = clf_boost.predict(x_test)\n",
    "pred_probs_boost = clf_boost.decision_function(x_test)"
   ]
  },
  {
   "cell_type": "code",
   "execution_count": null,
   "id": "61d0f472",
   "metadata": {},
   "outputs": [],
   "source": [
    "fig = px.histogram(x = pred_probs_boost, nbins=200,  title = \"GradBoost senescence score distribution\")\n",
    "fig.update_layout(\n",
    "        font=dict(\n",
    "            size=16,\n",
    "        )\n",
    "    )\n",
    "fig.update_layout(\n",
    "        xaxis_title=\"Senescencen score\",\n",
    "        yaxis_title=\"Count\")\n",
    "\n",
    "fig.show()"
   ]
  },
  {
   "cell_type": "code",
   "execution_count": null,
   "id": "ec276f53",
   "metadata": {},
   "outputs": [],
   "source": [
    "plot_projection(\"E31 TSNE on PCA coloured by gradient boost classifier score \", tsne_results_test, pred_probs_boost)"
   ]
  },
  {
   "cell_type": "code",
   "execution_count": null,
   "id": "abc5da50",
   "metadata": {},
   "outputs": [],
   "source": [
    "print(\"Accuracy:\",metrics.accuracy_score(y_test, y_pred_boost))\n",
    "# What proportion of positive identifications were actually correct?\n",
    "print(\"Precision:\",metrics.precision_score(y_test, y_pred_boost))\n",
    "# What proportion of actual positives were identified correctly?\n",
    "print(\"Recall:\",metrics.recall_score(y_test, y_pred_boost))"
   ]
  },
  {
   "cell_type": "markdown",
   "id": "30744ccf",
   "metadata": {},
   "source": [
    "**Train on the 2 subtypes, test on the two subtypes**"
   ]
  },
  {
   "cell_type": "code",
   "execution_count": null,
   "id": "d86f3413",
   "metadata": {},
   "outputs": [],
   "source": [
    "clf_boost_2 = GradientBoostingClassifier(n_estimators=200, learning_rate=1.0,\n",
    "                                 max_depth=2, random_state=0).fit(x_train, y_train)\n",
    "clf_boost_2.fit(x_train_2, y_train_2)\n",
    "y_pred_boost_2 = clf_boost_2.predict(x_test_2)\n",
    "print(\"Accuracy:\",metrics.accuracy_score(y_test_2, y_pred_boost_2))\n",
    "print(\"Precision:\",metrics.precision_score(y_test_2, y_pred_boost_2))\n",
    "print(\"Recall:\",metrics.recall_score(y_test_2, y_pred_boost_2))"
   ]
  },
  {
   "cell_type": "markdown",
   "id": "f1d4e67d",
   "metadata": {},
   "source": [
    "**Train on the 2 subtypes, test on all**"
   ]
  },
  {
   "cell_type": "code",
   "execution_count": null,
   "id": "da3cfe8b",
   "metadata": {},
   "outputs": [],
   "source": [
    "y_pred_boost_3 = clf_boost_2.predict(x_test)\n",
    "print(\"Accuracy:\",metrics.accuracy_score(y_test, y_pred_boost_3))\n",
    "print(\"Precision:\",metrics.precision_score(y_test, y_pred_boost_3))\n",
    "print(\"Recall:\",metrics.recall_score(y_test, y_pred_boost_3))"
   ]
  },
  {
   "cell_type": "markdown",
   "id": "51f6c284",
   "metadata": {},
   "source": [
    "## How to best justify one of these classification choices?"
   ]
  },
  {
   "cell_type": "markdown",
   "id": "59e16024",
   "metadata": {},
   "source": [
    "We chose the SVM model as a continuous distribution os senscence scores best fit out desired application, and the metrics used indicated the SVM was performing well. "
   ]
  },
  {
   "cell_type": "code",
   "execution_count": null,
   "id": "cf959e0a",
   "metadata": {},
   "outputs": [],
   "source": [
    "new_df_plot = pd.DataFrame(np.array([pred_probs_svm, pred_probs_ada, pred_probs_boost, x_test_full[:,-1], y_test]).T, columns = ['prediction', 'prediction ada', 'prediction boost', 'projection', 'senescent'])\n",
    "target_mapping = {1: 'yes', 0: 'no'}\n",
    "new_df_plot['senescent'] = new_df_plot['senescent'].map(lambda x: target_mapping[x])"
   ]
  },
  {
   "cell_type": "code",
   "execution_count": null,
   "id": "6ba3a0f1",
   "metadata": {},
   "outputs": [],
   "source": [
    "plot_continuous_classifier_comparison(new_df_plot, 'prediction', 'SVM')"
   ]
  },
  {
   "cell_type": "code",
   "execution_count": null,
   "id": "5ef040fb",
   "metadata": {
    "scrolled": true
   },
   "outputs": [],
   "source": [
    "plot_continuous_classifier_comparison(new_df_plot, 'prediction ada', 'Ada')"
   ]
  },
  {
   "cell_type": "code",
   "execution_count": null,
   "id": "da72947d",
   "metadata": {},
   "outputs": [],
   "source": [
    "plot_continuous_classifier_comparison(new_df_plot, 'prediction boost', 'gradient boost')"
   ]
  },
  {
   "cell_type": "code",
   "execution_count": null,
   "id": "2317e9e9",
   "metadata": {},
   "outputs": [],
   "source": [
    "fig = px.scatter(x = data[\"x_proj\"], y = data[\"y_proj\"], color = data[\"Senescent\"], opacity = 0.2)\n",
    "fig.update_layout(\n",
    "    font=dict(\n",
    "        size=16,\n",
    "    )\n",
    ")\n",
    "fig.update_layout(\n",
    "    title=\"E31 projection onto P21 and LaminB1 axis\",\n",
    "    xaxis_title=\"Maximum value of the mean fractional LaminB1 intensity\",\n",
    "    yaxis_title=\"Mean intensity of P21\")"
   ]
  }
 ],
 "metadata": {
  "kernelspec": {
   "display_name": "Python 3 (ipykernel)",
   "language": "python",
   "name": "python3"
  },
  "language_info": {
   "codemirror_mode": {
    "name": "ipython",
    "version": 3
   },
   "file_extension": ".py",
   "mimetype": "text/x-python",
   "name": "python",
   "nbconvert_exporter": "python",
   "pygments_lexer": "ipython3",
   "version": "3.8.13"
  }
 },
 "nbformat": 4,
 "nbformat_minor": 5
}
